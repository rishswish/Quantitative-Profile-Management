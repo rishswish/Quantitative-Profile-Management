{
  "nbformat": 4,
  "nbformat_minor": 0,
  "metadata": {
    "colab": {
      "provenance": []
    },
    "kernelspec": {
      "name": "python3",
      "display_name": "Python 3"
    },
    "language_info": {
      "name": "python"
    }
  },
  "cells": [
    {
      "cell_type": "code",
      "source": [
        "import numpy as np\n",
        "import matplotlib.pyplot as plt\n",
        "import yfinance as yf"
      ],
      "metadata": {
        "id": "qi8DtthEof2O"
      },
      "execution_count": 5,
      "outputs": []
    },
    {
      "cell_type": "code",
      "source": [
        "# Function to implement the CPPI strategy\n",
        "def cppi_simulation(stock_prices, floor_value, m, n, num_simulations):\n",
        "    results = []\n",
        "    for _ in range(num_simulations):\n",
        "        wealth = m\n",
        "        cushion = 1.0\n",
        "\n",
        "        for i in range(1, len(stock_prices)):\n",
        "            cushion = (wealth - floor_value) / wealth\n",
        "            risky_asset = cushion * wealth\n",
        "            risk_free_asset = wealth - risky_asset\n",
        "            wealth = risky_asset * stock_prices[i] / stock_prices[i - 1] + risk_free_asset\n",
        "\n",
        "        results.append(wealth)\n",
        "    return results"
      ],
      "metadata": {
        "id": "8BHGcPyQpJXg"
      },
      "execution_count": 6,
      "outputs": []
    },
    {
      "cell_type": "code",
      "source": [
        "# Function to implement the GBM strategy\n",
        "def gbm_simulation(initial_price, drift, volatility, n_steps, n_simulations, dt=1.0):\n",
        "    results = []\n",
        "    for _ in range(n_simulations):\n",
        "        price = initial_price\n",
        "        for _ in range(n_steps):\n",
        "            price *= np.exp((drift - 0.5 * volatility ** 2) * dt + volatility * np.sqrt(dt) * np.random.randn())\n",
        "        results.append(price)\n",
        "    return results"
      ],
      "metadata": {
        "id": "h2iUdd9ypROH"
      },
      "execution_count": 7,
      "outputs": []
    },
    {
      "cell_type": "code",
      "source": [
        "# Fetching stock data from yfinance\n",
        "def fetch_stock_data(ticker, start_date, end_date):\n",
        "    stock_data = yf.download(ticker, start=start_date, end=end_date)['Adj Close']\n",
        "    return stock_data"
      ],
      "metadata": {
        "id": "7p43XnNypTGa"
      },
      "execution_count": 8,
      "outputs": []
    },
    {
      "cell_type": "code",
      "source": [
        "# Parameters for CPPI simulation\n",
        "m = 1000000  # Initial investment\n",
        "floor_value = 800000  # Floor value, CPPI strategy will not let the wealth go below this value"
      ],
      "metadata": {
        "id": "pM6ZZb_zpVVS"
      },
      "execution_count": 9,
      "outputs": []
    },
    {
      "cell_type": "code",
      "source": [
        "# Parameters for GBM simulation\n",
        "initial_price = 100  # Initial stock price\n",
        "drift = 0.05  # Average return (drift) of the stock\n",
        "volatility = 0.2  # Volatility of the stock\n",
        "n_steps = 252  # Number of trading days in a year\n",
        "n_simulations = 1000  # Number of simulations"
      ],
      "metadata": {
        "id": "bn1CEvJNpgSQ"
      },
      "execution_count": 10,
      "outputs": []
    },
    {
      "cell_type": "code",
      "source": [
        "# Fetching stock data\n",
        "ticker = 'AAPL'  # You can change the ticker symbol to any other valid symbol\n",
        "start_date = '2020-01-01'\n",
        "end_date = '2021-01-01'\n",
        "stock_data = fetch_stock_data(ticker, start_date, end_date)"
      ],
      "metadata": {
        "colab": {
          "base_uri": "https://localhost:8080/"
        },
        "id": "44Q8Nvtsphrk",
        "outputId": "44b3b708-ce86-4ec1-ca31-be51e19f96bd"
      },
      "execution_count": 11,
      "outputs": [
        {
          "output_type": "stream",
          "name": "stdout",
          "text": [
            "\r[*********************100%***********************]  1 of 1 completed\n"
          ]
        }
      ]
    },
    {
      "cell_type": "code",
      "source": [
        "# Running simulations\n",
        "cppi_results = cppi_simulation(stock_data, floor_value, m, n_steps, n_simulations)\n",
        "gbm_results = gbm_simulation(initial_price, drift, volatility, n_steps, n_simulations)"
      ],
      "metadata": {
        "id": "5F5-Yw_Xpi-d"
      },
      "execution_count": 12,
      "outputs": []
    },
    {
      "cell_type": "code",
      "source": [
        "# Interactive plots\n",
        "plt.hist(cppi_results, bins=50, alpha=0.5, label='CPPI Strategy')\n",
        "plt.hist(gbm_results, bins=50, alpha=0.5, label='GBM Strategy')\n",
        "plt.xlabel('Final Wealth')\n",
        "plt.ylabel('Frequency')\n",
        "plt.title('Monte Carlo Simulations')\n",
        "plt.legend()\n",
        "plt.grid(True)\n",
        "plt.show()"
      ],
      "metadata": {
        "colab": {
          "base_uri": "https://localhost:8080/",
          "height": 472
        },
        "id": "6krlkKPXpkD5",
        "outputId": "ff16926f-fe30-4f6f-e3f3-673a4f0f6d57"
      },
      "execution_count": 14,
      "outputs": [
        {
          "output_type": "display_data",
          "data": {
            "text/plain": [
              "<Figure size 640x480 with 1 Axes>"
            ],
            "image/png": "[encoded data removed]"
          },
          "metadata": {}
        }
      ]
    }
  ]
}