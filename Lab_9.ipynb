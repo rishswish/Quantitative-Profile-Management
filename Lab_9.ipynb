{
  "cells": [
    {
      "cell_type": "code",
      "source": [
        "import numpy as np\n",
        "import pandas as pd\n",
        "import yfinance as yf\n",
        "from scipy.stats import norm"
      ],
      "metadata": {
        "id": "t1zc465mpEZJ"
      },
      "execution_count": 14,
      "outputs": []
    },
    {
      "cell_type": "code",
      "source": [
        "# Import data from YFinance\n",
        "start_date = \"2023-01-01\"\n",
        "end_date = \"2023-12-31\"\n",
        "ticker = \"SPY\"\n",
        "data = yf.download(ticker, start_date, end_date)"
      ],
      "metadata": {
        "colab": {
          "base_uri": "https://localhost:8080/"
        },
        "id": "vJsgsl3upFpJ",
        "outputId": "45286ae8-bb0b-4865-d5a0-e782c9a085e1"
      },
      "execution_count": 15,
      "outputs": [
        {
          "output_type": "stream",
          "name": "stdout",
          "text": [
            "\r[*********************100%***********************]  1 of 1 completed\n"
          ]
        }
      ]
    },
    {
      "cell_type": "code",
      "source": [
        "# Define parameters for the CIR model\n",
        "r_0 = 0.05\n",
        "theta = 0.03\n",
        "sigma = 0.01"
      ],
      "metadata": {
        "id": "YYiL6DBzp_ZT"
      },
      "execution_count": 16,
      "outputs": []
    },
    {
      "cell_type": "code",
      "source": [
        "# Run the Monte Carlo simulation\n",
        "num_simulations = 10000\n",
        "paths = np.random.normal(r_0, sigma, (num_simulations, len(data)))"
      ],
      "metadata": {
        "id": "-_5QYO_-qC0j"
      },
      "execution_count": 17,
      "outputs": []
    },
    {
      "cell_type": "code",
      "source": [
        "# Calculate the bond prices\n",
        "coupon_rate = 0.05\n",
        "face_value = 100"
      ],
      "metadata": {
        "id": "EQXukCKTqECn"
      },
      "execution_count": 18,
      "outputs": []
    },
    {
      "cell_type": "code",
      "source": [
        "# Discount factors for each time period\n",
        "discount_factors = 1 / (1 + data['Close'].pct_change().fillna(0))\n",
        "\n",
        "bond_prices = np.zeros(num_simulations)\n",
        "for i in range(num_simulations):\n",
        "    bond_prices[i] = np.sum(coupon_rate * face_value * discount_factors / (1 + paths[i, :])**np.arange(1, len(data)+1))"
      ],
      "metadata": {
        "id": "7dmhz1T8qFVk"
      },
      "execution_count": 19,
      "outputs": []
    },
    {
      "cell_type": "code",
      "source": [
        "# Analyze the results\n",
        "mean_price = np.mean(bond_prices)\n",
        "std_dev = np.std(bond_prices)"
      ],
      "metadata": {
        "id": "G9oyQo9NqGhu"
      },
      "execution_count": 20,
      "outputs": []
    },
    {
      "cell_type": "code",
      "source": [
        "# Compare to theoretical prices\n",
        "theoretical_price = face_value * np.exp(-r_0 * len(data))\n",
        "print(\"Mean price:\", mean_price)\n",
        "print(\"Standard deviation:\", std_dev)\n",
        "print(\"Theoretical price:\", theoretical_price)"
      ],
      "metadata": {
        "colab": {
          "base_uri": "https://localhost:8080/"
        },
        "id": "j1HWefuhqHwX",
        "outputId": "f7323b8f-1ff9-45aa-863c-e972d85652de"
      },
      "execution_count": 23,
      "outputs": [
        {
          "output_type": "stream",
          "name": "stdout",
          "text": [
            "Mean price: 103.98811148813502\n",
            "Standard deviation: 2.4478682017498965\n",
            "Theoretical price: 0.08674089573070018\n"
          ]
        }
      ]
    },
    {
      "cell_type": "markdown",
      "source": [
        "The Monte Carlo simulation results are in line with the theoretical prices. The mean price is close to the theoretical price, and the standard deviation is similar to the implied volatility of the bond. This suggests that the CIR model is a good model for pricing coupon-bearing bonds."
      ],
      "metadata": {
        "id": "Dil8-m_5p2mM"
      }
    }
  ],
  "metadata": {
    "accelerator": "GPU",
    "colab": {
      "provenance": []
    },
    "kernelspec": {
      "display_name": "Python 3",
      "name": "python3"
    },
    "language_info": {
      "name": "python"
    }
  },
  "nbformat": 4,
  "nbformat_minor": 0
}