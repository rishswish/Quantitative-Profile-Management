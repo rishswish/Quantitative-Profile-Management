{
  "nbformat": 4,
  "nbformat_minor": 0,
  "metadata": {
    "colab": {
      "provenance": []
    },
    "kernelspec": {
      "name": "python3",
      "display_name": "Python 3"
    },
    "language_info": {
      "name": "python"
    }
  },
  "cells": [
    {
      "cell_type": "code",
      "source": [
        "import numpy as np\n",
        "from sklearn.covariance import MinCovDet"
      ],
      "metadata": {
        "id": "RI9JSs6ZHGL2"
      },
      "execution_count": 1,
      "outputs": []
    },
    {
      "cell_type": "code",
      "source": [
        "# Generate a random dataset with outliers\n",
        "def generate_outlier_dataset(num_samples, num_features, outlier_fraction):\n",
        "    inliers = np.random.randn(int((1 - outlier_fraction) * num_samples), num_features)\n",
        "    outliers = 10.0 * np.random.randn(int(outlier_fraction * num_samples), num_features)\n",
        "    dataset = np.vstack([inliers, outliers])\n",
        "    return dataset"
      ],
      "metadata": {
        "id": "Nhur6SMJjujj"
      },
      "execution_count": 2,
      "outputs": []
    },
    {
      "cell_type": "code",
      "source": [
        "# Estimate covariance matrix using the sample covariance and MCD estimator\n",
        "def estimate_covariance_matrix(dataset):\n",
        "    sample_cov = np.cov(dataset, rowvar=False)\n",
        "    mcd = MinCovDet().fit(dataset)\n",
        "    mcd_cov = mcd.covariance_\n",
        "    return sample_cov, mcd_cov"
      ],
      "metadata": {
        "id": "bu3E9vCwHfEy"
      },
      "execution_count": 3,
      "outputs": []
    },
    {
      "cell_type": "code",
      "source": [
        "def compare_covariance_matrices(sample_cov, mcd_cov):\n",
        "    print(\"Sample Covariance Matrix:\")\n",
        "    print(sample_cov)\n",
        "    print(\"\\nMCD Covariance Matrix:\")\n",
        "    print(mcd_cov)\n",
        "    print(\"\\nDifference between the matrices:\")\n",
        "    print(sample_cov - mcd_cov)"
      ],
      "metadata": {
        "id": "-5KKxxrrHuFa"
      },
      "execution_count": 4,
      "outputs": []
    },
    {
      "cell_type": "code",
      "source": [
        "np.random.seed(42)\n",
        "num_samples = 100\n",
        "num_features = 3\n",
        "outlier_fractions = [0.1, 0.2, 0.3]\n",
        "for outlier_fraction in outlier_fractions:\n",
        "    print(f\"\\nGenerating dataset with {int(outlier_fraction * 100)}% outliers:\")\n",
        "    dataset = generate_outlier_dataset(num_samples, num_features, outlier_fraction)\n",
        "    sample_cov, mcd_cov = estimate_covariance_matrix(dataset)\n",
        "    print(\"\\nComparing covariance matrices:\")\n",
        "    compare_covariance_matrices(sample_cov, mcd_cov)"
      ],
      "metadata": {
        "colab": {
          "base_uri": "https://localhost:8080/"
        },
        "id": "MYJE8OSIHx0x",
        "outputId": "9d22f8b9-88bd-40d6-a7c6-3ed2cc1a5760"
      },
      "execution_count": 5,
      "outputs": [
        {
          "output_type": "stream",
          "name": "stdout",
          "text": [
            "\n",
            "Generating dataset with 10% outliers:\n",
            "\n",
            "Comparing covariance matrices:\n",
            "Sample Covariance Matrix:\n",
            "[[ 9.77826035 -3.70391397  3.45120391]\n",
            " [-3.70391397  7.37128737 -4.96073006]\n",
            " [ 3.45120391 -4.96073006  9.5865595 ]]\n",
            "\n",
            "MCD Covariance Matrix:\n",
            "[[ 0.54165739 -0.04922735 -0.10961889]\n",
            " [-0.04922735  0.91676002 -0.15491047]\n",
            " [-0.10961889 -0.15491047  0.94779386]]\n",
            "\n",
            "Difference between the matrices:\n",
            "[[ 9.23660296 -3.65468662  3.5608228 ]\n",
            " [-3.65468662  6.45452735 -4.8058196 ]\n",
            " [ 3.5608228  -4.8058196   8.63876564]]\n",
            "\n",
            "Generating dataset with 20% outliers:\n",
            "\n",
            "Comparing covariance matrices:\n",
            "Sample Covariance Matrix:\n",
            "[[23.51572186 -7.1339849   0.84439369]\n",
            " [-7.1339849  22.56958587 -2.88239039]\n",
            " [ 0.84439369 -2.88239039 17.96732802]]\n",
            "\n",
            "MCD Covariance Matrix:\n",
            "[[ 0.84914283 -0.0393283  -0.06345819]\n",
            " [-0.0393283   0.89745006  0.03037772]\n",
            " [-0.06345819  0.03037772  0.97531991]]\n",
            "\n",
            "Difference between the matrices:\n",
            "[[22.66657903 -7.0946566   0.90785188]\n",
            " [-7.0946566  21.67213581 -2.91276812]\n",
            " [ 0.90785188 -2.91276812 16.99200811]]\n",
            "\n",
            "Generating dataset with 30% outliers:\n",
            "\n",
            "Comparing covariance matrices:\n",
            "Sample Covariance Matrix:\n",
            "[[17.12415013  6.55201312 -2.09108002]\n",
            " [ 6.55201312 32.92189762  9.22710994]\n",
            " [-2.09108002  9.22710994 22.40710351]]\n",
            "\n",
            "MCD Covariance Matrix:\n",
            "[[ 0.711491   -0.08264049  0.06078279]\n",
            " [-0.08264049  1.0002048  -0.09073419]\n",
            " [ 0.06078279 -0.09073419  0.967777  ]]\n",
            "\n",
            "Difference between the matrices:\n",
            "[[16.41265913  6.63465361 -2.15186281]\n",
            " [ 6.63465361 31.92169282  9.31784413]\n",
            " [-2.15186281  9.31784413 21.43932651]]\n"
          ]
        }
      ]
    }
  ]
}